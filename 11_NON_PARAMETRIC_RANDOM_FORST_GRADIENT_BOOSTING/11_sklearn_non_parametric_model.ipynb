{
  "nbformat": 4,
  "nbformat_minor": 0,
  "metadata": {
    "colab": {
      "name": "11_sklearn_non_parametric_model.ipynb",
      "provenance": [],
      "toc_visible": true,
      "authorship_tag": "ABX9TyP0u+27k5L6rhJm6Hp2IQbN",
      "include_colab_link": true
    },
    "kernelspec": {
      "name": "python3",
      "display_name": "Python 3"
    }
  },
  "cells": [
    {
      "cell_type": "markdown",
      "metadata": {
        "id": "view-in-github",
        "colab_type": "text"
      },
      "source": [
        "<a href=\"https://colab.research.google.com/github/dbetteb/early-ML/blob/master/11_sklearn_non_parametric_model.ipynb\" target=\"_parent\"><img src=\"https://colab.research.google.com/assets/colab-badge.svg\" alt=\"Open In Colab\"/></a>"
      ]
    },
    {
      "cell_type": "markdown",
      "metadata": {
        "id": "hL6XcxdI7pAf",
        "colab_type": "text"
      },
      "source": [
        "![Texte alternatif…](https://cdn.analyticsvidhya.com/wp-content/uploads/2020/02/Screenshot-2020-02-03-at-1.30.14-PM.png)"
      ]
    },
    {
      "cell_type": "markdown",
      "metadata": {
        "id": "kj5nOC1R7cPY",
        "colab_type": "text"
      },
      "source": [
        "# Présentation générale de `scikit-learn`\n",
        "\n",
        "`scikit-learn` est un package libre Python regroupant un grand nombre d'algorithmes et de méthodes de machine learning. Le [site Web du package](https://scikit-learn.org/stable/) comprend une documentation très claire et de très nombreux exemples. Ce module a été écrit comme `scipy` comme un moyen d'harmoniser et d'emballer de nombreux développements hétéroclites, notamment à l'aide de `Cython` qui permet d'intégrer des librairies C nativement en Python (comme `libsvm` par exemple). \n"
      ]
    },
    {
      "cell_type": "markdown",
      "metadata": {
        "id": "l1PJamAbBazf",
        "colab_type": "text"
      },
      "source": [
        "## Principales fonctionnalités"
      ]
    },
    {
      "cell_type": "markdown",
      "metadata": {
        "id": "JrGtD9JnBeDh",
        "colab_type": "text"
      },
      "source": [
        "On retrouve dans `scikit-learn` la plupart des méthodes présentées au cours de la formation en apprentissage supervisé (modèles de régression et classification linéaire, SVM, réseaux de neurones, processus gaussients, forêts aléatoires, gradient boosting...) mais aussi de nombreuses méthodes d'apprentissage non supervisé (clustering, réduction de la dimension). `scikit-learn` ne visant pas forcément la performance par rapport à d'autres frameworks (Deep Learning notamment), il reste extrêmement flexible et dispose de très nombreuses fonctionnalités de pre et post processing (transformation des données, imputation de valeurs manquantes, calcul de métriques d'erreur...) permettant d'automatiser facilement de nombreuses tâches."
      ]
    },
    {
      "cell_type": "code",
      "metadata": {
        "id": "Ilr-vT0d8eky",
        "colab_type": "code",
        "colab": {}
      },
      "source": [
        ""
      ],
      "execution_count": null,
      "outputs": []
    },
    {
      "cell_type": "markdown",
      "metadata": {
        "id": "hMNS0QRJCeLk",
        "colab_type": "text"
      },
      "source": [
        "# Forêts aléatoires (**Random Forest**) en `scikit-learn`"
      ]
    },
    {
      "cell_type": "code",
      "metadata": {
        "id": "LTYhBMehCpZt",
        "colab_type": "code",
        "colab": {}
      },
      "source": [
        ""
      ],
      "execution_count": null,
      "outputs": []
    }
  ]
}