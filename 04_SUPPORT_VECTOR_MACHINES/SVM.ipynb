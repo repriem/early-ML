{
  "nbformat": 4,
  "nbformat_minor": 0,
  "metadata": {
    "kernelspec": {
      "display_name": "Python 3",
      "language": "python",
      "name": "python3"
    },
    "language_info": {
      "codemirror_mode": {
        "name": "ipython",
        "version": 3
      },
      "file_extension": ".py",
      "mimetype": "text/x-python",
      "name": "python",
      "nbconvert_exporter": "python",
      "pygments_lexer": "ipython3",
      "version": "3.6.8"
    },
    "colab": {
      "name": "SVM.ipynb",
      "provenance": []
    }
  },
  "cells": [
    {
      "cell_type": "markdown",
      "metadata": {
        "id": "ac8_VlepJee_",
        "colab_type": "text"
      },
      "source": [
        "# Introduction aux SVM"
      ]
    },
    {
      "cell_type": "markdown",
      "metadata": {
        "id": "QN8CnkIUJefG",
        "colab_type": "text"
      },
      "source": [
        "## Implémentation des SVM\n",
        "\n",
        "Les SVM reposent sur la résolution d'un problème d'optimisation quadratique convexe (formulation duale) de taille le nombre d'exemples de la base d'aprentissage. Bien qu'il existe des algorithmes spécifiques aux SVM (Sequential Minimal Optimization,...), il faut garder à l'esprit que la résolution d'un tel problème a une complexité au moins en $\\mathcal{O}(n^2)$ où $n$ est le nombre d'exemples."
      ]
    },
    {
      "cell_type": "markdown",
      "metadata": {
        "id": "CarcDWpzJefL",
        "colab_type": "text"
      },
      "source": [
        "Néanmoins, dans le cas linéaire, il existe des implémentations de la descente de gradient stochastique (comme poour la régression logistique et les réseaux de neurones), qui, si elles convergent moins bien, ont toutefois une complexité en $\\mathcal{O}(n)$ et donc permettent de traiter des problèmes de grande taille."
      ]
    },
    {
      "cell_type": "markdown",
      "metadata": {
        "id": "BNf6KB-hJefO",
        "colab_type": "text"
      },
      "source": [
        "La difficulté majeure des SVM est le réglage du paramètre de régularisation (souvent appelé $C$) dans tous les cas et dans le cas non linéaire le réglage du noyau (le noyau exponentiel le plus simple fait par exemple apparaître le paramètre $\\gamma$)."
      ]
    },
    {
      "cell_type": "markdown",
      "metadata": {
        "id": "sZ2rcjdxJefR",
        "colab_type": "text"
      },
      "source": [
        "Pour les règler, on procède comme pour les algorithmes de Machine Learning, on va tester des valeurs différentes de ces hyperparamètres. Pour chacune de ces valeurs, on va estimer l'erreur de généralisation (via la validation croisée). Il est malheureusement notoire que les SVM (notamment non linéaire) n'apprennent bien que pour une gamme de valeurs d'hyperparamètres restreinte, aussi est-il important de chercher efficacement les meilleurs hyperparamètres. Il est courant d'échantillonner de manière très large les valeurs de $C$ et des paramètres du noyau."
      ]
    },
    {
      "cell_type": "markdown",
      "metadata": {
        "id": "Ju7MwOzFJefU",
        "colab_type": "text"
      },
      "source": [
        "Tout ceci nous conduit à la nécessité de disposer d'implémentations efficaces des SVM, il en existe quelques unes :\n",
        "- `libsvm`, librairie en C++ wrappée en Python dans `sklearn` dans le module `svm`, qui traite les SVM non linéaires\n",
        "- `liblinear`, librairie associée à la précédente qui traite les SVM linéaires et la Regression Logistique et implémente des méthodes d'optimisation dédiées (pour les SVM mais aussi pour la Régression Logistique) wrappée en Python dans le module `LinearSVC` de `sklearn`\n",
        "- `SGDClassifier` qui provient d'une implémentation d'une Stochastic Gradient Descent pour les SVM par L. Bottou `svmsgd`"
      ]
    },
    {
      "cell_type": "markdown",
      "metadata": {
        "id": "7ncvBSBjJefX",
        "colab_type": "text"
      },
      "source": [
        "## Introduction à la classification avec `scikit-learn`"
      ]
    },
    {
      "cell_type": "code",
      "metadata": {
        "id": "5amRXpTtJefa",
        "colab_type": "code",
        "colab": {}
      },
      "source": [
        "from sklearn import svm, metrics, datasets"
      ],
      "execution_count": null,
      "outputs": []
    },
    {
      "cell_type": "markdown",
      "metadata": {
        "id": "sTNtSKP8Jefv",
        "colab_type": "text"
      },
      "source": [
        "Nous utilisons l'exemple du cours : les données sur les iris"
      ]
    },
    {
      "cell_type": "code",
      "metadata": {
        "id": "3-Yqnu9hJefx",
        "colab_type": "code",
        "colab": {}
      },
      "source": [
        "iris = datasets.load_iris()"
      ],
      "execution_count": null,
      "outputs": []
    },
    {
      "cell_type": "markdown",
      "metadata": {
        "id": "Zq4ffVmbJef9",
        "colab_type": "text"
      },
      "source": [
        "Regardons la description des données"
      ]
    },
    {
      "cell_type": "code",
      "metadata": {
        "id": "loxISBZWJef_",
        "colab_type": "code",
        "colab": {},
        "outputId": "570c831b-05af-4813-a2cb-fb4c621234bd"
      },
      "source": [
        "print (\"Iris data set Description :: \", iris['DESCR'])"
      ],
      "execution_count": null,
      "outputs": [
        {
          "output_type": "stream",
          "text": [
            "Iris data set Description ::  .. _iris_dataset:\n",
            "\n",
            "Iris plants dataset\n",
            "--------------------\n",
            "\n",
            "**Data Set Characteristics:**\n",
            "\n",
            "    :Number of Instances: 150 (50 in each of three classes)\n",
            "    :Number of Attributes: 4 numeric, predictive attributes and the class\n",
            "    :Attribute Information:\n",
            "        - sepal length in cm\n",
            "        - sepal width in cm\n",
            "        - petal length in cm\n",
            "        - petal width in cm\n",
            "        - class:\n",
            "                - Iris-Setosa\n",
            "                - Iris-Versicolour\n",
            "                - Iris-Virginica\n",
            "                \n",
            "    :Summary Statistics:\n",
            "\n",
            "    ============== ==== ==== ======= ===== ====================\n",
            "                    Min  Max   Mean    SD   Class Correlation\n",
            "    ============== ==== ==== ======= ===== ====================\n",
            "    sepal length:   4.3  7.9   5.84   0.83    0.7826\n",
            "    sepal width:    2.0  4.4   3.05   0.43   -0.4194\n",
            "    petal length:   1.0  6.9   3.76   1.76    0.9490  (high!)\n",
            "    petal width:    0.1  2.5   1.20   0.76    0.9565  (high!)\n",
            "    ============== ==== ==== ======= ===== ====================\n",
            "\n",
            "    :Missing Attribute Values: None\n",
            "    :Class Distribution: 33.3% for each of 3 classes.\n",
            "    :Creator: R.A. Fisher\n",
            "    :Donor: Michael Marshall (MARSHALL%PLU@io.arc.nasa.gov)\n",
            "    :Date: July, 1988\n",
            "\n",
            "The famous Iris database, first used by Sir R.A. Fisher. The dataset is taken\n",
            "from Fisher's paper. Note that it's the same as in R, but not as in the UCI\n",
            "Machine Learning Repository, which has two wrong data points.\n",
            "\n",
            "This is perhaps the best known database to be found in the\n",
            "pattern recognition literature.  Fisher's paper is a classic in the field and\n",
            "is referenced frequently to this day.  (See Duda & Hart, for example.)  The\n",
            "data set contains 3 classes of 50 instances each, where each class refers to a\n",
            "type of iris plant.  One class is linearly separable from the other 2; the\n",
            "latter are NOT linearly separable from each other.\n",
            "\n",
            ".. topic:: References\n",
            "\n",
            "   - Fisher, R.A. \"The use of multiple measurements in taxonomic problems\"\n",
            "     Annual Eugenics, 7, Part II, 179-188 (1936); also in \"Contributions to\n",
            "     Mathematical Statistics\" (John Wiley, NY, 1950).\n",
            "   - Duda, R.O., & Hart, P.E. (1973) Pattern Classification and Scene Analysis.\n",
            "     (Q327.D83) John Wiley & Sons.  ISBN 0-471-22361-1.  See page 218.\n",
            "   - Dasarathy, B.V. (1980) \"Nosing Around the Neighborhood: A New System\n",
            "     Structure and Classification Rule for Recognition in Partially Exposed\n",
            "     Environments\".  IEEE Transactions on Pattern Analysis and Machine\n",
            "     Intelligence, Vol. PAMI-2, No. 1, 67-71.\n",
            "   - Gates, G.W. (1972) \"The Reduced Nearest Neighbor Rule\".  IEEE Transactions\n",
            "     on Information Theory, May 1972, 431-433.\n",
            "   - See also: 1988 MLC Proceedings, 54-64.  Cheeseman et al\"s AUTOCLASS II\n",
            "     conceptual clustering system finds 3 classes in the data.\n",
            "   - Many, many more ...\n"
          ],
          "name": "stdout"
        }
      ]
    },
    {
      "cell_type": "markdown",
      "metadata": {
        "id": "9NbhHDlMJegR",
        "colab_type": "text"
      },
      "source": [
        "Il y a 4 variables d'entrée"
      ]
    },
    {
      "cell_type": "code",
      "metadata": {
        "id": "vqVIVLEPJegT",
        "colab_type": "code",
        "colab": {}
      },
      "source": [
        "X=iris.data"
      ],
      "execution_count": null,
      "outputs": []
    },
    {
      "cell_type": "markdown",
      "metadata": {
        "id": "12mg76ynJegh",
        "colab_type": "text"
      },
      "source": [
        "On stocke le numéro de la classe dans y, il varie entre 0 et 2"
      ]
    },
    {
      "cell_type": "code",
      "metadata": {
        "id": "N6lyGb-QJegj",
        "colab_type": "code",
        "colab": {}
      },
      "source": [
        "y=iris.target"
      ],
      "execution_count": null,
      "outputs": []
    },
    {
      "cell_type": "markdown",
      "metadata": {
        "id": "omsLZEDNJegw",
        "colab_type": "text"
      },
      "source": [
        "Traçons les données"
      ]
    },
    {
      "cell_type": "code",
      "metadata": {
        "id": "exuDfboDJegy",
        "colab_type": "code",
        "colab": {}
      },
      "source": [
        "import matplotlib.pyplot as plt"
      ],
      "execution_count": null,
      "outputs": []
    },
    {
      "cell_type": "code",
      "metadata": {
        "id": "oBI8x9phJeg-",
        "colab_type": "code",
        "colab": {},
        "outputId": "5e1678b8-8cc5-4c7b-8a01-198c98819ba0"
      },
      "source": [
        "plt.scatter(X[:, 0], X[:, 1], c=y, cmap=plt.cm.coolwarm)\n",
        "plt.xlabel('Sepal length')\n",
        "plt.ylabel('Sepal width')\n",
        "plt.title('Sepal Width & Length')\n",
        "plt.show()"
      ],
      "execution_count": null,
      "outputs": [
        {
          "output_type": "display_data",
          "data": {
            "image/png": "[encoded data removed]",
            "text/plain": [
              "<Figure size 432x288 with 1 Axes>"
            ]
          },
          "metadata": {
            "tags": [],
            "needs_background": "light"
          }
        }
      ]
    },
    {
      "cell_type": "markdown",
      "metadata": {
        "id": "g7-6Xv2JJehK",
        "colab_type": "text"
      },
      "source": [
        "Visualisation des autres coordonnées"
      ]
    },
    {
      "cell_type": "code",
      "metadata": {
        "id": "FIFmQDlBJehM",
        "colab_type": "code",
        "colab": {},
        "outputId": "98ce5949-edc8-4b97-827f-919a9fbe4806"
      },
      "source": [
        "plt.scatter(X[:, 2], X[:, 3], c=y, cmap=plt.cm.coolwarm)\n",
        "plt.xlabel('Petal length')\n",
        "plt.ylabel('Petal width')\n",
        "plt.title('Petal Width & Length')\n",
        "plt.show()"
      ],
      "execution_count": null,
      "outputs": [
        {
          "output_type": "display_data",
          "data": {
            "image/png": "[encoded data removed]",
            "text/plain": [
              "<Figure size 432x288 with 1 Axes>"
            ]
          },
          "metadata": {
            "tags": [],
            "needs_background": "light"
          }
        }
      ]
    },
    {
      "cell_type": "markdown",
      "metadata": {
        "id": "3wFZ8YFXJehX",
        "colab_type": "text"
      },
      "source": [
        "Pairplot avec pandas et seaborn"
      ]
    },
    {
      "cell_type": "code",
      "metadata": {
        "id": "nZRrOdtBJehZ",
        "colab_type": "code",
        "colab": {}
      },
      "source": [
        "import seaborn as sns; sns.set(style=\"ticks\", color_codes=True)\n",
        "import pandas as pd\n",
        "import numpy as np"
      ],
      "execution_count": null,
      "outputs": []
    },
    {
      "cell_type": "code",
      "metadata": {
        "id": "RR2ZXaU7Jehn",
        "colab_type": "code",
        "colab": {}
      },
      "source": [
        "irisvisu=np.append(X,y[:,None], axis = 1)"
      ],
      "execution_count": null,
      "outputs": []
    },
    {
      "cell_type": "code",
      "metadata": {
        "id": "-oVzHhpZJehy",
        "colab_type": "code",
        "colab": {}
      },
      "source": [
        "Z=pd.DataFrame(irisvisu)"
      ],
      "execution_count": null,
      "outputs": []
    },
    {
      "cell_type": "code",
      "metadata": {
        "id": "nOaveYWCJeh8",
        "colab_type": "code",
        "colab": {}
      },
      "source": [
        "Z=Z.rename(columns={0: 'sepal_length', 1: 'sepal_width',2: 'petal_length', 3: 'petal_width', 4:'Species'})\n",
        "Z['Species'] = Z['Species'].apply(lambda i: str(i))\n",
        "Z['Species'] = Z['Species'].apply(lambda i: str(i))\n",
        "Z['Species'] = Z['Species'].apply(lambda x: x.replace('0.0', 'setosa'))\n",
        "Z['Species'] = Z['Species'].apply(lambda x: x.replace('1.0', 'versicolor'))\n",
        "Z['Species'] = Z['Species'].apply(lambda x: x.replace('2.0', 'virginica'))"
      ],
      "execution_count": null,
      "outputs": []
    },
    {
      "cell_type": "code",
      "metadata": {
        "id": "hImMLP60JeiF",
        "colab_type": "code",
        "colab": {},
        "outputId": "922cabe1-39cf-40d8-b3e4-a9c14f86672e"
      },
      "source": [
        "sns.pairplot(Z, hue=\"Species\")"
      ],
      "execution_count": null,
      "outputs": [
        {
          "output_type": "execute_result",
          "data": {
            "text/plain": [
              "<seaborn.axisgrid.PairGrid at 0xcff96d8>"
            ]
          },
          "metadata": {
            "tags": []
          },
          "execution_count": 15
        },
        {
          "output_type": "display_data",
          "data": {
            "image/png": "[encoded data removed]",
            "text/plain": [
              "<Figure size 806.85x720 with 20 Axes>"
            ]
          },
          "metadata": {
            "tags": []
          }
        }
      ]
    },
    {
      "cell_type": "markdown",
      "metadata": {
        "id": "3CQZJ3DJJeiT",
        "colab_type": "text"
      },
      "source": [
        "Séparons les 150 données en 75 données d'apprentissage et 75 de test"
      ]
    },
    {
      "cell_type": "code",
      "metadata": {
        "id": "Y7_E_8HeJeiV",
        "colab_type": "code",
        "colab": {}
      },
      "source": [
        "from sklearn.model_selection import train_test_split"
      ],
      "execution_count": null,
      "outputs": []
    },
    {
      "cell_type": "markdown",
      "metadata": {
        "id": "q5ysf4peJeif",
        "colab_type": "text"
      },
      "source": [
        "Cette dernière fonction est très simple"
      ]
    },
    {
      "cell_type": "code",
      "metadata": {
        "id": "MBTANa0TJeii",
        "colab_type": "code",
        "colab": {},
        "outputId": "514036f0-bc6f-4b20-d937-05c6c562c657"
      },
      "source": [
        "help(train_test_split)"
      ],
      "execution_count": null,
      "outputs": [
        {
          "output_type": "stream",
          "text": [
            "Help on function train_test_split in module sklearn.model_selection._split:\n",
            "\n",
            "train_test_split(*arrays, **options)\n",
            "    Split arrays or matrices into random train and test subsets\n",
            "    \n",
            "    Quick utility that wraps input validation and\n",
            "    ``next(ShuffleSplit().split(X, y))`` and application to input data\n",
            "    into a single call for splitting (and optionally subsampling) data in a\n",
            "    oneliner.\n",
            "    \n",
            "    Read more in the :ref:`User Guide <cross_validation>`.\n",
            "    \n",
            "    Parameters\n",
            "    ----------\n",
            "    *arrays : sequence of indexables with same length / shape[0]\n",
            "        Allowed inputs are lists, numpy arrays, scipy-sparse\n",
            "        matrices or pandas dataframes.\n",
            "    \n",
            "    test_size : float, int or None, optional (default=0.25)\n",
            "        If float, should be between 0.0 and 1.0 and represent the proportion\n",
            "        of the dataset to include in the test split. If int, represents the\n",
            "        absolute number of test samples. If None, the value is set to the\n",
            "        complement of the train size. By default, the value is set to 0.25.\n",
            "        The default will change in version 0.21. It will remain 0.25 only\n",
            "        if ``train_size`` is unspecified, otherwise it will complement\n",
            "        the specified ``train_size``.\n",
            "    \n",
            "    train_size : float, int, or None, (default=None)\n",
            "        If float, should be between 0.0 and 1.0 and represent the\n",
            "        proportion of the dataset to include in the train split. If\n",
            "        int, represents the absolute number of train samples. If None,\n",
            "        the value is automatically set to the complement of the test size.\n",
            "    \n",
            "    random_state : int, RandomState instance or None, optional (default=None)\n",
            "        If int, random_state is the seed used by the random number generator;\n",
            "        If RandomState instance, random_state is the random number generator;\n",
            "        If None, the random number generator is the RandomState instance used\n",
            "        by `np.random`.\n",
            "    \n",
            "    shuffle : boolean, optional (default=True)\n",
            "        Whether or not to shuffle the data before splitting. If shuffle=False\n",
            "        then stratify must be None.\n",
            "    \n",
            "    stratify : array-like or None (default=None)\n",
            "        If not None, data is split in a stratified fashion, using this as\n",
            "        the class labels.\n",
            "    \n",
            "    Returns\n",
            "    -------\n",
            "    splitting : list, length=2 * len(arrays)\n",
            "        List containing train-test split of inputs.\n",
            "    \n",
            "        .. versionadded:: 0.16\n",
            "            If the input is sparse, the output will be a\n",
            "            ``scipy.sparse.csr_matrix``. Else, output type is the same as the\n",
            "            input type.\n",
            "    \n",
            "    Examples\n",
            "    --------\n",
            "    >>> import numpy as np\n",
            "    >>> from sklearn.model_selection import train_test_split\n",
            "    >>> X, y = np.arange(10).reshape((5, 2)), range(5)\n",
            "    >>> X\n",
            "    array([[0, 1],\n",
            "           [2, 3],\n",
            "           [4, 5],\n",
            "           [6, 7],\n",
            "           [8, 9]])\n",
            "    >>> list(y)\n",
            "    [0, 1, 2, 3, 4]\n",
            "    \n",
            "    >>> X_train, X_test, y_train, y_test = train_test_split(\n",
            "    ...     X, y, test_size=0.33, random_state=42)\n",
            "    ...\n",
            "    >>> X_train\n",
            "    array([[4, 5],\n",
            "           [0, 1],\n",
            "           [6, 7]])\n",
            "    >>> y_train\n",
            "    [2, 0, 3]\n",
            "    >>> X_test\n",
            "    array([[2, 3],\n",
            "           [8, 9]])\n",
            "    >>> y_test\n",
            "    [1, 4]\n",
            "    \n",
            "    >>> train_test_split(y, shuffle=False)\n",
            "    [[0, 1, 2], [3, 4]]\n",
            "\n"
          ],
          "name": "stdout"
        }
      ]
    },
    {
      "cell_type": "code",
      "metadata": {
        "id": "iHAzSj1JJeiw",
        "colab_type": "code",
        "colab": {}
      },
      "source": [
        "X_train, X_test, y_train, y_test = train_test_split(X, y, test_size=0.5)"
      ],
      "execution_count": null,
      "outputs": []
    },
    {
      "cell_type": "markdown",
      "metadata": {
        "id": "eTlskhpdJei5",
        "colab_type": "text"
      },
      "source": [
        "Construisons une SVM pour la classification des données avec un coût pour une mauvaise classification C très elevé"
      ]
    },
    {
      "cell_type": "code",
      "metadata": {
        "id": "GjCYf1dqJei7",
        "colab_type": "code",
        "colab": {}
      },
      "source": [
        "svm_iris=svm.SVC(kernel='linear',C=1000000000)"
      ],
      "execution_count": null,
      "outputs": []
    },
    {
      "cell_type": "code",
      "metadata": {
        "id": "UAvDX8cKJejF",
        "colab_type": "code",
        "colab": {},
        "outputId": "5b2dc0e6-f0c5-4390-b83c-c66bfc3bb437"
      },
      "source": [
        "svm_iris.fit(X_train,y_train)"
      ],
      "execution_count": null,
      "outputs": [
        {
          "output_type": "execute_result",
          "data": {
            "text/plain": [
              "SVC(C=1000000000, cache_size=200, class_weight=None, coef0=0.0,\n",
              "  decision_function_shape='ovr', degree=3, gamma='auto_deprecated',\n",
              "  kernel='linear', max_iter=-1, probability=False, random_state=None,\n",
              "  shrinking=True, tol=0.001, verbose=False)"
            ]
          },
          "metadata": {
            "tags": []
          },
          "execution_count": 38
        }
      ]
    },
    {
      "cell_type": "markdown",
      "metadata": {
        "id": "pYBz0T1lJejR",
        "colab_type": "text"
      },
      "source": [
        "Faisons maintenant la prédiction sur la base de test"
      ]
    },
    {
      "cell_type": "code",
      "metadata": {
        "id": "wWL4ZCJyJejT",
        "colab_type": "code",
        "colab": {}
      },
      "source": [
        "y_pred=svm_iris.predict(X_test)"
      ],
      "execution_count": null,
      "outputs": []
    },
    {
      "cell_type": "markdown",
      "metadata": {
        "id": "36G_exbaJejc",
        "colab_type": "text"
      },
      "source": [
        "Traçons la matrice de confusion"
      ]
    },
    {
      "cell_type": "code",
      "metadata": {
        "id": "mtsQ6U-zJeje",
        "colab_type": "code",
        "colab": {},
        "outputId": "9b9a3636-b54f-4888-e2b4-73f3ae70ab77"
      },
      "source": [
        "cm = metrics.confusion_matrix(y_test, y_pred)\n",
        "print(\"Confusion matrix:\\n%s\" % cm)"
      ],
      "execution_count": null,
      "outputs": [
        {
          "output_type": "stream",
          "text": [
            "Confusion matrix:\n",
            "[[24  0  0]\n",
            " [ 0 21  6]\n",
            " [ 0  0 24]]\n"
          ],
          "name": "stdout"
        }
      ]
    },
    {
      "cell_type": "markdown",
      "metadata": {
        "id": "keAvSVlIJejs",
        "colab_type": "text"
      },
      "source": [
        "Examinons les vecteurs de support"
      ]
    },
    {
      "cell_type": "code",
      "metadata": {
        "id": "hv8UHtucJejt",
        "colab_type": "code",
        "colab": {},
        "outputId": "920321d2-84cb-45bc-9e21-dd108397e9a2"
      },
      "source": [
        "svm_iris.support_vectors_"
      ],
      "execution_count": null,
      "outputs": [
        {
          "output_type": "execute_result",
          "data": {
            "text/plain": [
              "array([[5.1, 3.3, 1.7, 0.5],\n",
              "       [5.1, 3.8, 1.9, 0.4],\n",
              "       [4.5, 2.3, 1.3, 0.3],\n",
              "       [5.9, 3.2, 4.8, 1.8],\n",
              "       [5. , 2. , 3.5, 1. ],\n",
              "       [5.1, 2.5, 3. , 1.1],\n",
              "       [6.8, 2.8, 4.8, 1.4],\n",
              "       [6. , 3. , 4.8, 1.8],\n",
              "       [4.9, 2.5, 4.5, 1.7]])"
            ]
          },
          "metadata": {
            "tags": []
          },
          "execution_count": 41
        }
      ]
    },
    {
      "cell_type": "markdown",
      "metadata": {
        "id": "ZBj6j-h4Jej3",
        "colab_type": "text"
      },
      "source": [
        "**Exercice** : Tester avec d'autres noyaux et d'autres valeurs de C"
      ]
    },
    {
      "cell_type": "code",
      "metadata": {
        "id": "t4povEiFJej4",
        "colab_type": "code",
        "colab": {}
      },
      "source": [
        ""
      ],
      "execution_count": null,
      "outputs": []
    },
    {
      "cell_type": "markdown",
      "metadata": {
        "id": "JSVgZ-ctJekD",
        "colab_type": "text"
      },
      "source": [
        "## Introduction à la régression avec `scikit-learn`"
      ]
    },
    {
      "cell_type": "markdown",
      "metadata": {
        "id": "arvC2EHbJekF",
        "colab_type": "text"
      },
      "source": [
        "Pour cette introduction à la régression avec les SVR, on va utiliser un dataset classique en régression: `Pima Diabetes Dataset`"
      ]
    },
    {
      "cell_type": "code",
      "metadata": {
        "collapsed": true,
        "id": "BAn2HeoPJekH",
        "colab_type": "code",
        "colab": {}
      },
      "source": [
        "from sklearn import datasets\n",
        "diab = datasets.load_diabetes()"
      ],
      "execution_count": null,
      "outputs": []
    },
    {
      "cell_type": "markdown",
      "metadata": {
        "id": "TfrWgRUTJekQ",
        "colab_type": "text"
      },
      "source": [
        "`scikit-learn` dispose de quelques datasets classiques. Ce dernier vient d'une étude très connue sur l'apparition du diabète sur des femmes indiennes."
      ]
    },
    {
      "cell_type": "code",
      "metadata": {
        "id": "ptC17f8gJekS",
        "colab_type": "code",
        "colab": {},
        "outputId": "ced929a0-96c7-465e-94bf-5e02cde09540"
      },
      "source": [
        "print(diab.DESCR)"
      ],
      "execution_count": null,
      "outputs": [
        {
          "output_type": "stream",
          "text": [
            "Diabetes dataset\n",
            "================\n",
            "\n",
            "Notes\n",
            "-----\n",
            "\n",
            "Ten baseline variables, age, sex, body mass index, average blood\n",
            "pressure, and six blood serum measurements were obtained for each of n =\n",
            "442 diabetes patients, as well as the response of interest, a\n",
            "quantitative measure of disease progression one year after baseline.\n",
            "\n",
            "Data Set Characteristics:\n",
            "\n",
            "  :Number of Instances: 442\n",
            "\n",
            "  :Number of Attributes: First 10 columns are numeric predictive values\n",
            "\n",
            "  :Target: Column 11 is a quantitative measure of disease progression one year after baseline\n",
            "\n",
            "  :Attributes:\n",
            "    :Age:\n",
            "    :Sex:\n",
            "    :Body mass index:\n",
            "    :Average blood pressure:\n",
            "    :S1:\n",
            "    :S2:\n",
            "    :S3:\n",
            "    :S4:\n",
            "    :S5:\n",
            "    :S6:\n",
            "\n",
            "Note: Each of these 10 feature variables have been mean centered and scaled by the standard deviation times `n_samples` (i.e. the sum of squares of each column totals 1).\n",
            "\n",
            "Source URL:\n",
            "http://www4.stat.ncsu.edu/~boos/var.select/diabetes.html\n",
            "\n",
            "For more information see:\n",
            "Bradley Efron, Trevor Hastie, Iain Johnstone and Robert Tibshirani (2004) \"Least Angle Regression,\" Annals of Statistics (with discussion), 407-499.\n",
            "(http://web.stanford.edu/~hastie/Papers/LARS/LeastAngle_2002.pdf)\n",
            "\n"
          ],
          "name": "stdout"
        }
      ]
    },
    {
      "cell_type": "code",
      "metadata": {
        "collapsed": true,
        "id": "cVmurRaXJekc",
        "colab_type": "code",
        "colab": {}
      },
      "source": [
        "X = diab.data\n",
        "y = diab.target"
      ],
      "execution_count": null,
      "outputs": []
    },
    {
      "cell_type": "markdown",
      "metadata": {
        "id": "jFQQaL5lJekl",
        "colab_type": "text"
      },
      "source": [
        "On commence par séparer les données en base d'apprentissage et base de test.\n",
        "*NB* : la base de test est à oublier pendant toute la construction du modèle, elle ne sera appelée à la toute fin, une fois le modèle final entraîné. Ces données correspondent à ce que notre modèle prédictif mis en production aurait comme entrées."
      ]
    },
    {
      "cell_type": "code",
      "metadata": {
        "collapsed": true,
        "id": "7BN4l64dJekn",
        "colab_type": "code",
        "colab": {}
      },
      "source": [
        "from sklearn.model_selection import train_test_split"
      ],
      "execution_count": null,
      "outputs": []
    },
    {
      "cell_type": "markdown",
      "metadata": {
        "id": "osYa6CCJJekx",
        "colab_type": "text"
      },
      "source": [
        "On choisit de garder $20 \\%$ de points dans une base de test."
      ]
    },
    {
      "cell_type": "code",
      "metadata": {
        "collapsed": true,
        "id": "XOk0ry_gJeky",
        "colab_type": "code",
        "colab": {}
      },
      "source": [
        "X_train, X_test, Y_train, Y_test = train_test_split(X, y, test_size=0.2, random_state=12)"
      ],
      "execution_count": null,
      "outputs": []
    },
    {
      "cell_type": "code",
      "metadata": {
        "id": "eZk3aXVmJek4",
        "colab_type": "code",
        "colab": {},
        "outputId": "5b31a804-fca9-441a-aece-1dd9e601bc65"
      },
      "source": [
        "X_train.shape"
      ],
      "execution_count": null,
      "outputs": [
        {
          "output_type": "execute_result",
          "data": {
            "text/plain": [
              "(353, 10)"
            ]
          },
          "metadata": {
            "tags": []
          },
          "execution_count": 13
        }
      ]
    },
    {
      "cell_type": "code",
      "metadata": {
        "collapsed": true,
        "id": "plXzVfS5Jek9",
        "colab_type": "code",
        "colab": {}
      },
      "source": [
        "from sklearn.model_selection import GridSearchCV"
      ],
      "execution_count": null,
      "outputs": []
    },
    {
      "cell_type": "markdown",
      "metadata": {
        "id": "Zx7NiDMKJelB",
        "colab_type": "text"
      },
      "source": [
        "`GridSearchCV` va nous permettre de procéder à une validation croisée directement sans avoir à la programmer (même si ça n'a rien de compliqué)"
      ]
    },
    {
      "cell_type": "markdown",
      "metadata": {
        "id": "A4ZGVJ4CJelC",
        "colab_type": "text"
      },
      "source": [
        "On commence par initier une instance de SVM pour la régression"
      ]
    },
    {
      "cell_type": "code",
      "metadata": {
        "collapsed": true,
        "id": "_My-u8HJJelD",
        "colab_type": "code",
        "colab": {}
      },
      "source": [
        "from sklearn.svm import SVR"
      ],
      "execution_count": null,
      "outputs": []
    },
    {
      "cell_type": "code",
      "metadata": {
        "collapsed": true,
        "id": "-iarCtEDJelG",
        "colab_type": "code",
        "colab": {}
      },
      "source": [
        "clf_svm = SVR()"
      ],
      "execution_count": null,
      "outputs": []
    },
    {
      "cell_type": "markdown",
      "metadata": {
        "id": "BaqLOotyJelL",
        "colab_type": "text"
      },
      "source": [
        "Il s'agit d'un objet régresseur SVM qui comprend déjà beaucoup d'attributs et de méthodes"
      ]
    },
    {
      "cell_type": "code",
      "metadata": {
        "id": "5PuZGKsmJelM",
        "colab_type": "code",
        "colab": {},
        "outputId": "a023024d-6c95-444c-9b6a-dcf1e7b1cd8a"
      },
      "source": [
        "clf_svm.kernel"
      ],
      "execution_count": null,
      "outputs": [
        {
          "output_type": "execute_result",
          "data": {
            "text/plain": [
              "'rbf'"
            ]
          },
          "metadata": {
            "tags": []
          },
          "execution_count": 17
        }
      ]
    },
    {
      "cell_type": "code",
      "metadata": {
        "id": "jNHiJDejJelP",
        "colab_type": "code",
        "colab": {},
        "outputId": "28d1748e-60af-4017-bb65-579e5b96b225"
      },
      "source": [
        "clf_svm.C"
      ],
      "execution_count": null,
      "outputs": [
        {
          "output_type": "execute_result",
          "data": {
            "text/plain": [
              "1.0"
            ]
          },
          "metadata": {
            "tags": []
          },
          "execution_count": 18
        }
      ]
    },
    {
      "cell_type": "code",
      "metadata": {
        "id": "duNjxvdpJelT",
        "colab_type": "code",
        "colab": {},
        "outputId": "8e5e5e54-5d5a-4187-cf45-4e4974428b3a"
      },
      "source": [
        "clf_svm.gamma"
      ],
      "execution_count": null,
      "outputs": [
        {
          "output_type": "execute_result",
          "data": {
            "text/plain": [
              "'auto'"
            ]
          },
          "metadata": {
            "tags": []
          },
          "execution_count": 19
        }
      ]
    },
    {
      "cell_type": "code",
      "metadata": {
        "id": "iJie6tMvJelX",
        "colab_type": "code",
        "colab": {},
        "outputId": "ec35f02d-8e58-42eb-9765-f4f0a61e57bf"
      },
      "source": [
        "clf_svm.epsilon"
      ],
      "execution_count": null,
      "outputs": [
        {
          "output_type": "execute_result",
          "data": {
            "text/plain": [
              "0.1"
            ]
          },
          "metadata": {
            "tags": []
          },
          "execution_count": 20
        }
      ]
    },
    {
      "cell_type": "markdown",
      "metadata": {
        "id": "ZEJwsyHRJelb",
        "colab_type": "text"
      },
      "source": [
        "On a donc un objet permettant de réaliser une régression en s'appuyant sur les RBF kernel SVM avec des paramètres de régularisation et de noyau (méthode de réglage automatique)"
      ]
    },
    {
      "cell_type": "markdown",
      "metadata": {
        "id": "nMYB5nJWJelc",
        "colab_type": "text"
      },
      "source": [
        "## Entraînement"
      ]
    },
    {
      "cell_type": "markdown",
      "metadata": {
        "id": "R-jpLEHLJeld",
        "colab_type": "text"
      },
      "source": [
        "Pour entraîner cet objet sur les données"
      ]
    },
    {
      "cell_type": "code",
      "metadata": {
        "id": "6M-G3MyYJele",
        "colab_type": "code",
        "colab": {},
        "outputId": "c9f0ffa9-2f94-4a91-d1e6-fd3d85899144"
      },
      "source": [
        "clf_svm.fit(X_train, Y_train)"
      ],
      "execution_count": null,
      "outputs": [
        {
          "output_type": "execute_result",
          "data": {
            "text/plain": [
              "SVR(C=1.0, cache_size=200, coef0=0.0, degree=3, epsilon=0.1, gamma='auto',\n",
              "  kernel='rbf', max_iter=-1, shrinking=True, tol=0.001, verbose=False)"
            ]
          },
          "metadata": {
            "tags": []
          },
          "execution_count": 21
        }
      ]
    },
    {
      "cell_type": "markdown",
      "metadata": {
        "id": "issTn8YjJeli",
        "colab_type": "text"
      },
      "source": [
        "On peut déjà estimer le score sur la base d'apprentissage"
      ]
    },
    {
      "cell_type": "code",
      "metadata": {
        "id": "54X-VPAcJelk",
        "colab_type": "code",
        "colab": {},
        "outputId": "4d162575-72a6-4c1c-d3e3-b240fb7560ce"
      },
      "source": [
        "clf_svm.score(X_train, Y_train)"
      ],
      "execution_count": null,
      "outputs": [
        {
          "output_type": "execute_result",
          "data": {
            "text/plain": [
              "-0.021821874255633533"
            ]
          },
          "metadata": {
            "tags": []
          },
          "execution_count": 22
        }
      ]
    },
    {
      "cell_type": "code",
      "metadata": {
        "id": "5xa6goI2Jelp",
        "colab_type": "code",
        "colab": {},
        "outputId": "042db97a-70b4-4e15-d2bb-03df6f33bd91"
      },
      "source": [
        "%pylab inline"
      ],
      "execution_count": null,
      "outputs": [
        {
          "output_type": "stream",
          "text": [
            "Populating the interactive namespace from numpy and matplotlib\n"
          ],
          "name": "stdout"
        }
      ]
    },
    {
      "cell_type": "code",
      "metadata": {
        "id": "jqphc-B3Jelt",
        "colab_type": "code",
        "colab": {},
        "outputId": "83c5c5a2-ade1-48dc-9e46-bcd825363fda"
      },
      "source": [
        "plt.plot(clf_svm.predict(X_train), Y_train,'o')"
      ],
      "execution_count": null,
      "outputs": [
        {
          "output_type": "execute_result",
          "data": {
            "text/plain": [
              "[<matplotlib.lines.Line2D at 0xa257a20>]"
            ]
          },
          "metadata": {
            "tags": []
          },
          "execution_count": 25
        },
        {
          "output_type": "display_data",
          "data": {
            "image/png": "[encoded data removed]",
            "text/plain": [
              "<matplotlib.figure.Figure at 0x9e710f0>"
            ]
          },
          "metadata": {
            "tags": []
          }
        }
      ]
    },
    {
      "cell_type": "markdown",
      "metadata": {
        "id": "Phh8S8vUJelx",
        "colab_type": "text"
      },
      "source": [
        "La régression n'est pas très efficace, elle donne quasiment la même valeur pour tous les échantillons. La meilleure solution est de parcourir l'espace des hyperparamètres et de réaliser pour chaque combinaison une estimation de l'erreur de généralisation par validation croisée."
      ]
    },
    {
      "cell_type": "code",
      "metadata": {
        "collapsed": true,
        "id": "gZiiWYpQJelx",
        "colab_type": "code",
        "colab": {}
      },
      "source": [
        "gammas = np.logspace(0.5,1,5)\n",
        "Cs     = np.logspace(1.7,2.5,5)\n",
        "epsilons = np.logspace(0.2,0.7,5)\n",
        "\n",
        "param_dict = [{'gamma': gammas, 'C': Cs, 'epsilon': epsilons}]\n",
        "cv_svr = GridSearchCV(clf_svm, param_dict, cv = 5, refit=True)"
      ],
      "execution_count": null,
      "outputs": []
    },
    {
      "cell_type": "code",
      "metadata": {
        "id": "6amanwaBJel2",
        "colab_type": "code",
        "colab": {},
        "outputId": "88276aec-aec5-4cbc-9824-6288778cd9ce"
      },
      "source": [
        "cv_svr.fit(X_train, Y_train)"
      ],
      "execution_count": null,
      "outputs": [
        {
          "output_type": "execute_result",
          "data": {
            "text/plain": [
              "GridSearchCV(cv=5, error_score='raise',\n",
              "       estimator=SVR(C=1.0, cache_size=200, coef0=0.0, degree=3, epsilon=0.1, gamma='auto',\n",
              "  kernel='rbf', max_iter=-1, shrinking=True, tol=0.001, verbose=False),\n",
              "       fit_params=None, iid=True, n_jobs=1,\n",
              "       param_grid=[{'gamma': array([ 3.16228,  4.21697,  5.62341,  7.49894, 10.     ]), 'epsilon': array([1.58489, 2.11349, 2.81838, 3.75837, 5.01187]), 'C': array([ 50.11872,  79.43282, 125.89254, 199.52623, 316.22777])}],\n",
              "       pre_dispatch='2*n_jobs', refit=True, return_train_score='warn',\n",
              "       scoring=None, verbose=0)"
            ]
          },
          "metadata": {
            "tags": []
          },
          "execution_count": 27
        }
      ]
    },
    {
      "cell_type": "code",
      "metadata": {
        "id": "Ohd8Ax0iJel5",
        "colab_type": "code",
        "colab": {},
        "outputId": "5508b3a9-3c31-48ee-f1cc-46d8a6658833"
      },
      "source": [
        "plt.plot(cv_svr.predict(X_train), Y_train,'o')"
      ],
      "execution_count": null,
      "outputs": [
        {
          "output_type": "execute_result",
          "data": {
            "text/plain": [
              "[<matplotlib.lines.Line2D at 0xa29ce48>]"
            ]
          },
          "metadata": {
            "tags": []
          },
          "execution_count": 28
        },
        {
          "output_type": "display_data",
          "data": {
            "image/png": "[encoded data removed]",
            "text/plain": [
              "<matplotlib.figure.Figure at 0xa27fda0>"
            ]
          },
          "metadata": {
            "tags": []
          }
        }
      ]
    },
    {
      "cell_type": "markdown",
      "metadata": {
        "id": "4siSEVbAJel7",
        "colab_type": "text"
      },
      "source": [
        "La régression s'est largement améliorée."
      ]
    },
    {
      "cell_type": "markdown",
      "metadata": {
        "id": "sTHF6twWJel_",
        "colab_type": "text"
      },
      "source": [
        "**Exercice 1** : Estimer l'erreur de généralisation à l'aide de la base de test."
      ]
    },
    {
      "cell_type": "code",
      "metadata": {
        "collapsed": true,
        "id": "SZ8BtmJKJel_",
        "colab_type": "code",
        "colab": {}
      },
      "source": [
        ""
      ],
      "execution_count": null,
      "outputs": []
    },
    {
      "cell_type": "markdown",
      "metadata": {
        "id": "1H5NlehdJemF",
        "colab_type": "text"
      },
      "source": [
        "**Exercice 2** : Tester avec d'autres noyaux"
      ]
    },
    {
      "cell_type": "code",
      "metadata": {
        "collapsed": true,
        "id": "LgLf0nM6JemF",
        "colab_type": "code",
        "colab": {}
      },
      "source": [
        ""
      ],
      "execution_count": null,
      "outputs": []
    },
    {
      "cell_type": "markdown",
      "metadata": {
        "id": "-6pHqlx0JemI",
        "colab_type": "text"
      },
      "source": [
        "**Exercice 3** : Tester avec des SVR linéaires"
      ]
    },
    {
      "cell_type": "code",
      "metadata": {
        "id": "fbiSoYr-JemJ",
        "colab_type": "code",
        "colab": {}
      },
      "source": [
        ""
      ],
      "execution_count": null,
      "outputs": []
    },
    {
      "cell_type": "markdown",
      "metadata": {
        "id": "6EHQi_AeJemQ",
        "colab_type": "text"
      },
      "source": [
        "**Exercice final** :  Choisir les hyperparamètres par validation croisée pour la classification des iris"
      ]
    },
    {
      "cell_type": "code",
      "metadata": {
        "collapsed": true,
        "id": "f59EASAzJemQ",
        "colab_type": "code",
        "colab": {}
      },
      "source": [
        ""
      ],
      "execution_count": null,
      "outputs": []
    }
  ]
}